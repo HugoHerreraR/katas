{
 "cells": [
  {
   "cell_type": "markdown",
   "metadata": {},
   "source": [
    "# Tu primer programa"
   ]
  },
  {
   "cell_type": "markdown",
   "metadata": {},
   "source": [
    "## Fecha"
   ]
  },
  {
   "cell_type": "code",
   "execution_count": 1,
   "metadata": {},
   "outputs": [
    {
     "name": "stdout",
     "output_type": "stream",
     "text": [
      "Today's date is: 2022-02-08\n",
      "Hora de vuelo: 12:28:21\n"
     ]
    }
   ],
   "source": [
    "from datetime import date\n",
    "import time\n",
    "\n",
    "date.today()\n",
    "print(\"Today's date is: \" + str(date.today()))\n",
    "print(\"Hora de vuelo:\", time.strftime(\"%H:%M:%S\"))"
   ]
  },
  {
   "cell_type": "markdown",
   "metadata": {},
   "source": [
    "## Convertidor de unidades\n",
    "\n",
    "### Escriba la cantidad de parsecs que desea convertir"
   ]
  },
  {
   "cell_type": "code",
   "execution_count": 6,
   "metadata": {},
   "outputs": [
    {
     "name": "stdout",
     "output_type": "stream",
     "text": [
      "Escriba la cantidad de parsecs que desea convertir\n",
      "9 parsec, is 29.354039999999998 lightyears\n"
     ]
    }
   ],
   "source": [
    "print(\"Escriba la cantidad de parsecs que desea convertir\")\n",
    "parsec = input(\"Cantidad de Parsec´s: \")\n",
    "\n",
    "lightyears = 3.26156 * int(parsec)\n",
    "\n",
    "print(str(parsec) + \" parsec, is \" + str(lightyears) + \" lightyears\")"
   ]
  }
 ],
 "metadata": {
  "interpreter": {
   "hash": "590a86fb95d137205aecd35cffbf4dfecf7403fbf1879cc51cbff87d445b9091"
  },
  "kernelspec": {
   "display_name": "Python 3.8.10 ('base')",
   "language": "python",
   "name": "python3"
  },
  "language_info": {
   "codemirror_mode": {
    "name": "ipython",
    "version": 3
   },
   "file_extension": ".py",
   "mimetype": "text/x-python",
   "name": "python",
   "nbconvert_exporter": "python",
   "pygments_lexer": "ipython3",
   "version": "3.7.8"
  },
  "orig_nbformat": 4
 },
 "nbformat": 4,
 "nbformat_minor": 2
}
