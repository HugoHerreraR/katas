{
 "cells": [
  {
   "cell_type": "markdown",
   "metadata": {},
   "source": [
    "# Ejercicio1 - Utilizar operadores aritméticos"
   ]
  },
  {
   "cell_type": "code",
   "execution_count": 7,
   "metadata": {},
   "outputs": [
    {
     "name": "stdout",
     "output_type": "stream",
     "text": [
      "Distancia en Kilometros: 628949330 Km\n",
      "Distancia en Millas: 390577533.93 mi\n"
     ]
    }
   ],
   "source": [
    "dist_tierra = 149597870\n",
    "dist_jupiter = 778547200\n",
    "\n",
    "distancia_km = dist_jupiter - dist_tierra\n",
    "distancia_milla = distancia_km * 0.621\n",
    "\n",
    "print(\"Distancia en Kilometros: \" + str(distancia_km) + \" Km\")\n",
    "print(\"Distancia en Millas: \" + str(distancia_milla) + \" mi\")\n"
   ]
  },
  {
   "cell_type": "markdown",
   "metadata": {},
   "source": [
    "# Ejercicio 2: convierte cadenas en números y usa valores absolutos\n",
    "### Crear una aplicación para trabajar con números y entrada de usuario"
   ]
  },
  {
   "cell_type": "code",
   "execution_count": 19,
   "metadata": {},
   "outputs": [],
   "source": [
    "primer_planeta = input(\"Escribe la distancia distancia del sol para el primer planeta\")\n",
    "segundo_planeta = input(\"Escribe la distancia distancia del sol para el segundo planeta\")\n",
    "\n",
    "primer_planeta = int(primer_planeta)\n",
    "segundo_planeta = int(segundo_planeta)"
   ]
  },
  {
   "cell_type": "code",
   "execution_count": 20,
   "metadata": {},
   "outputs": [
    {
     "name": "stdout",
     "output_type": "stream",
     "text": [
      "Distancia en Kilometros: 91700000 Km\n",
      "Distancia en Millas: 56945700.0 mi\n"
     ]
    }
   ],
   "source": [
    "\n",
    "distancia_km = abs(primer_planeta - segundo_planeta)\n",
    "distancia_milla = distancia_km * 0.621\n",
    "\n",
    "print(\"Distancia en Kilometros: \" + str(distancia_km) + \" Km\")\n",
    "print(\"Distancia en Millas: \" + str(distancia_milla) + \" mi\")"
   ]
  }
 ],
 "metadata": {
  "interpreter": {
   "hash": "590a86fb95d137205aecd35cffbf4dfecf7403fbf1879cc51cbff87d445b9091"
  },
  "kernelspec": {
   "display_name": "Python 3.8.10 ('base')",
   "language": "python",
   "name": "python3"
  },
  "language_info": {
   "codemirror_mode": {
    "name": "ipython",
    "version": 3
   },
   "file_extension": ".py",
   "mimetype": "text/x-python",
   "name": "python",
   "nbconvert_exporter": "python",
   "pygments_lexer": "ipython3",
   "version": "3.8.10"
  },
  "orig_nbformat": 4
 },
 "nbformat": 4,
 "nbformat_minor": 2
}
