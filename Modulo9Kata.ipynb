{
 "cells": [
  {
   "cell_type": "markdown",
   "metadata": {},
   "source": [
    "# Ejercicio: Uso de funciones en Python\n",
    "Ejercicio 1: Trabajar con argumentos en funciones"
   ]
  },
  {
   "cell_type": "code",
   "execution_count": 6,
   "metadata": {},
   "outputs": [],
   "source": [
    "def informe(taque_oxigeno, tanque_hidrogeno, tanque_propergoles):\n",
    "    promedio_combustible = (tanque_propergoles + taque_oxigeno + tanque_propergoles)/3\n",
    "    return f\"\"\"Informe de combustible:\n",
    "    Tanque de oxigeno liquido: {taque_oxigeno}\n",
    "    Tanque de hidrogeno: {tanque_hidrogeno}\n",
    "    tanque de propergoles: {tanque_propergoles}\n",
    "    Promedio del combustible: {round(promedio_combustible,2)}\"\"\""
   ]
  },
  {
   "cell_type": "code",
   "execution_count": 7,
   "metadata": {},
   "outputs": [
    {
     "name": "stdout",
     "output_type": "stream",
     "text": [
      "Informe de combustible:\n",
      "    Tanque de oxigeno liquido: 70\n",
      "    Tanque de hidrogeno: 90\n",
      "    tanque de propergoles: 56\n",
      "    Promedio del combustible: 60.67\n"
     ]
    }
   ],
   "source": [
    "print(informe(70,90,56))"
   ]
  },
  {
   "cell_type": "code",
   "execution_count": 9,
   "metadata": {},
   "outputs": [],
   "source": [
    "def promedio_combustible(*args):\n",
    "    total = sum(args)\n",
    "    return total/len(args)\n",
    "#print(prom_combustible(1,2,3))"
   ]
  },
  {
   "cell_type": "code",
   "execution_count": 10,
   "metadata": {},
   "outputs": [],
   "source": [
    "def informe(taque_oxigeno, tanque_hidrogeno, tanque_propergoles):\n",
    "    return f\"\"\"Informe de combustible:\n",
    "    Tanque de oxigeno liquido: {taque_oxigeno}\n",
    "    Tanque de hidrogeno: {tanque_hidrogeno}\n",
    "    tanque de propergoles: {tanque_propergoles}\n",
    "    Promedio del combustible: {promedio_combustible(taque_oxigeno, tanque_hidrogeno, tanque_propergoles)}\"\"\""
   ]
  },
  {
   "cell_type": "code",
   "execution_count": 11,
   "metadata": {},
   "outputs": [
    {
     "name": "stdout",
     "output_type": "stream",
     "text": [
      "Informe de combustible:\n",
      "    Tanque de oxigeno liquido: 70\n",
      "    Tanque de hidrogeno: 90\n",
      "    tanque de propergoles: 56\n",
      "    Promedio del combustible: 72.0\n"
     ]
    }
   ],
   "source": [
    "print(informe(70,90,56))"
   ]
  },
  {
   "cell_type": "markdown",
   "metadata": {},
   "source": [
    "# Ejercicio 2: Trabajo con argumentos de palabra clave\n",
    "Ejercicio : Trabajar con argumentos de palabras clave en funciones"
   ]
  },
  {
   "cell_type": "code",
   "execution_count": 14,
   "metadata": {},
   "outputs": [
    {
     "name": "stdout",
     "output_type": "stream",
     "text": [
      "Informe de la misión:\n",
      "    Destino de la misión: Jupiter\n",
      "    Tiempo de vuelo: 310 minutos\n",
      "    Combustible total del tanque izquierdo: 23000 galones\n"
     ]
    }
   ],
   "source": [
    "def info_mision(hora_salida, tiempo_vuelo, tanque_externo, tanque_interno, destino):\n",
    "    return f\"\"\"Informe de la misión:\n",
    "    Destino de la misión: {destino}\n",
    "    Tiempo de vuelo: {hora_salida + tiempo_vuelo} minutos\n",
    "    Combustible total del tanque izquierdo: {tanque_externo + tanque_interno} galones\"\"\"\n",
    "\n",
    "#print(info_mision(hora_salida=5, tiempo_vuelo=400, tanque_externo=200, tanque_interno=10000, destino='Marte'))\n",
    "print(info_mision(10,300,3000,20000,'Jupiter'))"
   ]
  },
  {
   "cell_type": "code",
   "execution_count": 20,
   "metadata": {},
   "outputs": [
    {
     "name": "stdout",
     "output_type": "stream",
     "text": [
      "Informe de la misión:\n",
      "    Destino de la misión: Urano\n",
      "    Tiempo de vuelo: 534 minutos\n",
      "    Combustible total del tanque izquierdo: 30000 galones\n"
     ]
    }
   ],
   "source": [
    "def info_mision(destino,*tiempo_vuelo, **tanques_combustible):\n",
    "    return f\"\"\"Informe de la misión:\n",
    "    Destino de la misión: {destino}\n",
    "    Tiempo de vuelo: {sum(tiempo_vuelo)} minutos\n",
    "    Combustible total del tanque izquierdo: {sum(tanques_combustible.values())} galones\"\"\"\n",
    "\n",
    "\n",
    "print(info_mision(\"Urano\", 34,500, tanque_interno=20000,tanque_externo=10000))"
   ]
  },
  {
   "cell_type": "code",
   "execution_count": 32,
   "metadata": {},
   "outputs": [
    {
     "name": "stdout",
     "output_type": "stream",
     "text": [
      "Informe de la misión:\n",
      "    Destino de la misión: Urano\n",
      "    Tiempo de vuelo: 534 minutos\n",
      "    Combustible total del tanque izquierdo: 30000 galones\n",
      "    tanque_interno: 20000 galones\n",
      "tanque_externo: 10000 galones\n",
      "\n"
     ]
    }
   ],
   "source": [
    "def info_mision(destino,*tiempo_vuelo, **tanques_combustible):\n",
    "    reporte = f\"\"\"Informe de la misión:\n",
    "    Destino de la misión: {destino}\n",
    "    Tiempo de vuelo: {sum(tiempo_vuelo)} minutos\n",
    "    Combustible total del tanque izquierdo: {sum(tanques_combustible.values())} galones\n",
    "    \"\"\"\n",
    "\n",
    "    for name, galones in tanques_combustible.items():\n",
    "        reporte += f\"{name}: {galones} galones\\n\"\n",
    "    return reporte\n",
    "\n",
    "print(info_mision(\"Urano\", 34,500, tanque_interno=20000,tanque_externo=10000))"
   ]
  }
 ],
 "metadata": {
  "interpreter": {
   "hash": "590a86fb95d137205aecd35cffbf4dfecf7403fbf1879cc51cbff87d445b9091"
  },
  "kernelspec": {
   "display_name": "Python 3.8.10 ('base')",
   "language": "python",
   "name": "python3"
  },
  "language_info": {
   "codemirror_mode": {
    "name": "ipython",
    "version": 3
   },
   "file_extension": ".py",
   "mimetype": "text/x-python",
   "name": "python",
   "nbconvert_exporter": "python",
   "pygments_lexer": "ipython3",
   "version": "3.8.10"
  },
  "orig_nbformat": 4
 },
 "nbformat": 4,
 "nbformat_minor": 2
}
